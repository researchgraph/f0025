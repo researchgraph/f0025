{
 "cells": [
  {
   "cell_type": "code",
   "execution_count": null,
   "metadata": {
    "collapsed": true
   },
   "outputs": [],
   "source": [
    "print('hello')"
   ]
  },
  {
   "cell_type": "code",
   "execution_count": null,
   "metadata": {
    "collapsed": true
   },
   "outputs": [],
   "source": [
    "import csv\n",
    "reader=csv.dictreader(open('institutes.csv',','))\n",
    "dict_list=[]\n",
    "    for line in reader:\n",
    "        dict_list.append(line)"
   ]
  },
  {
   "cell_type": "code",
   "execution_count": null,
   "metadata": {
    "collapsed": true
   },
   "outputs": [],
   "source": [
    "import csv\n",
    "reader=csv.DictReader(open('institutes.csv','rb'))\n",
    "dict_list=[]\n",
    "for line in reader:\n",
    "    dict_list.append(line)"
   ]
  },
  {
   "cell_type": "code",
   "execution_count": null,
   "metadata": {
    "collapsed": true
   },
   "outputs": [],
   "source": [
    "import csv\n",
    "reader=csv.DictReader(open('institutes.csv','rb'))\n",
    "dict_list=[]\n",
    "for line in reader:\n",
    "    dict_list.append(line)\n",
    "    "
   ]
  },
  {
   "cell_type": "code",
   "execution_count": null,
   "metadata": {
    "collapsed": true
   },
   "outputs": [],
   "source": [
    "import CSV\n",
    "\n",
    "myData=[['first_name','last_name','country'],\n",
    "        ['Amir','Ar','Australia'],\n",
    "        ['Nazi','Kh','Australia']]\n",
    "myfile=open('samples.csv','w')\n",
    "with myfile:\n",
    "    writer=csv.writer(myfile)\n",
    "    writer.writerows(myData)\n",
    "    \n",
    "print('writing complete') \n"
   ]
  },
  {
   "cell_type": "code",
   "execution_count": null,
   "metadata": {
    "collapsed": true
   },
   "outputs": [],
   "source": [
    "import csv\n",
    "\n",
    "myData=[['first_name','last_name','country'],\n",
    "        ['Amir','Ar','Australia'],\n",
    "        ['Nazi','Kh','Australia']]\n",
    "myfile=open('samples.csv','w')\n",
    "with myfile:\n",
    "    writer=csv.writer(myfile)\n",
    "    writer.writerows(myData)\n",
    "    \n",
    "print('writing complete')"
   ]
  },
  {
   "cell_type": "code",
   "execution_count": null,
   "metadata": {
    "collapsed": true
   },
   "outputs": [],
   "source": [
    "import csv\n",
    "\n",
    "myData=[['first_name','last_name','country'],\n",
    "        ['Amir','Ar','Australia'],\n",
    "        ['Nazi','Kh','Australia']]\n",
    "myfile=open('samples.csv','w')\n",
    "with myfile:\n",
    "    writer=csv.writer(myfile)\n",
    "    writer.writerows(myData)\n",
    "    for \n",
    "        rows.append(row)\n"
   ]
  },
  {
   "cell_type": "code",
   "execution_count": null,
   "metadata": {
    "collapsed": true
   },
   "outputs": [],
   "source": [
    "with open(myfile, 'r') as csvfile:\n",
    "    csvreader = csv.reader(csvfile)"
   ]
  },
  {
   "cell_type": "code",
   "execution_count": null,
   "metadata": {
    "collapsed": true
   },
   "outputs": [],
   "source": [
    "Nazila=[]\n",
    "for i in range(1,10):\n",
    "    print (i)"
   ]
  },
  {
   "cell_type": "code",
   "execution_count": null,
   "metadata": {
    "collapsed": true
   },
   "outputs": [],
   "source": [
    "nazi=['malihe','fahime']"
   ]
  },
  {
   "cell_type": "code",
   "execution_count": null,
   "metadata": {
    "collapsed": true
   },
   "outputs": [],
   "source": [
    "amir=[]\n",
    "amir.append(nazi)\n",
    "print (amir)"
   ]
  },
  {
   "cell_type": "code",
   "execution_count": null,
   "metadata": {
    "collapsed": true
   },
   "outputs": [],
   "source": [
    "ali=[]\n",
    "    for i in range(1,10):\n",
    "ali.append (i)\n",
    "print (ali)        "
   ]
  },
  {
   "cell_type": "code",
   "execution_count": 1,
   "metadata": {},
   "outputs": [
    {
     "ename": "SyntaxError",
     "evalue": "can't assign to literal (<ipython-input-1-6628f06ff5f3>, line 3)",
     "output_type": "error",
     "traceback": [
      "\u001b[0;36m  File \u001b[0;32m\"<ipython-input-1-6628f06ff5f3>\"\u001b[0;36m, line \u001b[0;32m3\u001b[0m\n\u001b[0;31m    for \" Black\" in list:\u001b[0m\n\u001b[0m       ^\u001b[0m\n\u001b[0;31mSyntaxError\u001b[0m\u001b[0;31m:\u001b[0m can't assign to literal\n"
     ]
    }
   ],
   "source": [
    "list=['Tom Black', 'Alex Black', 'Marri Smith', 'James Philip', 'Scott Timos', 'Fredi Mercury']\n",
    "list1=[]\n",
    "for \" Black\" in list:\n",
    "    print (\"Black\")"
   ]
  },
  {
   "cell_type": "code",
   "execution_count": null,
   "metadata": {
    "collapsed": true
   },
   "outputs": [],
   "source": []
  }
 ],
 "metadata": {
  "kernelspec": {
   "display_name": "Python 3",
   "language": "python",
   "name": "python3"
  },
  "language_info": {
   "codemirror_mode": {
    "name": "ipython",
    "version": 3
   },
   "file_extension": ".py",
   "mimetype": "text/x-python",
   "name": "python",
   "nbconvert_exporter": "python",
   "pygments_lexer": "ipython3",
   "version": "3.6.3"
  }
 },
 "nbformat": 4,
 "nbformat_minor": 2
}
