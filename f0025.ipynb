{
 "cells": [
  {
   "cell_type": "code",
   "execution_count": null,
   "metadata": {},
   "outputs": [],
   "source": [
    "print('hello')"
   ]
  },
  {
   "cell_type": "code",
   "execution_count": null,
   "metadata": {},
   "outputs": [],
   "source": [
    "import csv\n",
    "reader=csv.dictreader(open('institutes.csv',','))\n",
    "dict_list=[]\n",
    "    for line in reader:\n",
    "        dict_list.append(line)"
   ]
  },
  {
   "cell_type": "code",
   "execution_count": null,
   "metadata": {},
   "outputs": [],
   "source": [
    "import csv\n",
    "reader=csv.DictReader(open('institutes.csv','rb'))\n",
    "dict_list=[]\n",
    "for line in reader:\n",
    "    dict_list.append(line)"
   ]
  },
  {
   "cell_type": "code",
   "execution_count": null,
   "metadata": {},
   "outputs": [],
   "source": [
    "import csv\n",
    "reader=csv.DictReader(open('institutes.csv','rb'))\n",
    "dict_list=[]\n",
    "for line in reader:\n",
    "    dict_list.append(line)\n",
    "    "
   ]
  },
  {
   "cell_type": "code",
   "execution_count": null,
   "metadata": {},
   "outputs": [],
   "source": [
    "import CSV\n",
    "\n",
    "myData=[['first_name','last_name','country'],\n",
    "        ['Amir','Ar','Australia'],\n",
    "        ['Nazi','Kh','Australia']]\n",
    "myfile=open('samples.csv','w')\n",
    "with myfile:\n",
    "    writer=csv.writer(myfile)\n",
    "    writer.writerows(myData)\n",
    "    \n",
    "print('writing complete') \n"
   ]
  },
  {
   "cell_type": "code",
   "execution_count": null,
   "metadata": {},
   "outputs": [],
   "source": [
    "import csv\n",
    "\n",
    "myData=[['first_name','last_name','country'],\n",
    "        ['Amir','Ar','Australia'],\n",
    "        ['Nazi','Kh','Australia']]\n",
    "myfile=open('samples.csv','w')\n",
    "with myfile:\n",
    "    writer=csv.writer(myfile)\n",
    "    writer.writerows(myData)\n",
    "    \n",
    "print('writing complete')"
   ]
  },
  {
   "cell_type": "code",
   "execution_count": null,
   "metadata": {},
   "outputs": [],
   "source": [
    "import csv\n",
    "\n",
    "myData=[['first_name','last_name','country'],\n",
    "        ['Amir','Ar','Australia'],\n",
    "        ['Nazi','Kh','Australia']]\n",
    "myfile=open('samples.csv','w')\n",
    "with myfile:\n",
    "    writer=csv.writer(myfile)\n",
    "    writer.writerows(myData)\n",
    "    for \n",
    "        rows.append(row)\n"
   ]
  },
  {
   "cell_type": "code",
   "execution_count": null,
   "metadata": {},
   "outputs": [],
   "source": [
    "with open(myfile, 'r') as csvfile:\n",
    "    csvreader = csv.reader(csvfile)"
   ]
  },
  {
   "cell_type": "code",
   "execution_count": null,
   "metadata": {},
   "outputs": [],
   "source": [
    "Nazila=[]\n",
    "for i in range(1,10):\n",
    "    print (i)"
   ]
  },
  {
   "cell_type": "code",
   "execution_count": null,
   "metadata": {
    "collapsed": true
   },
   "outputs": [],
   "source": [
    "nazi=['malihe','fahime']"
   ]
  },
  {
   "cell_type": "code",
   "execution_count": null,
   "metadata": {},
   "outputs": [],
   "source": [
    "amir=[]\n",
    "amir.append(nazi)\n",
    "print (amir)"
   ]
  },
  {
   "cell_type": "code",
   "execution_count": null,
   "metadata": {},
   "outputs": [],
   "source": [
    "ali=[]\n",
    "    for i in range(1,10):\n",
    "ali.append (i)\n",
    "print (ali)        "
   ]
  },
  {
   "cell_type": "code",
   "execution_count": null,
   "metadata": {
    "collapsed": true
   },
   "outputs": [],
   "source": []
  }
 ],
 "metadata": {
  "kernelspec": {
   "display_name": "Python 3",
   "language": "python",
   "name": "python3"
  },
  "language_info": {
   "codemirror_mode": {
    "name": "ipython",
    "version": 3
   },
   "file_extension": ".py",
   "mimetype": "text/x-python",
   "name": "python",
   "nbconvert_exporter": "python",
   "pygments_lexer": "ipython3",
   "version": "3.6.3"
  }
 },
 "nbformat": 4,
 "nbformat_minor": 2
}
